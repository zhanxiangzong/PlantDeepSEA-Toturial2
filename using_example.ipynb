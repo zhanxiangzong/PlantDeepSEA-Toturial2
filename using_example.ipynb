{
  "nbformat": 4,
  "nbformat_minor": 0,
  "metadata": {
    "colab": {
      "name": "Untitled4.ipynb",
      "provenance": [],
      "collapsed_sections": []
    },
    "kernelspec": {
      "display_name": "Python 3",
      "name": "python3"
    },
    "language_info": {
      "name": "python"
    }
  },
  "cells": [
    {
      "cell_type": "markdown",
      "metadata": {
        "id": "RNjIUSwmVOjK"
      },
      "source": [
        "## 模型训练及预训练模型应用指南 (A Guide to Model Training and Application of Pre-trained Models)\n",
        "1、我们提供了复现PlantDeepSEA结果所需的数据和使用这些数据训练的DeeperDeepSEA模型(即我们在网络服务中所应用的模型)。\n",
        "\n",
        "We provide the data needed to reproduce the PlantDeepSEA results and the DeeperDeepSEA model trained using these data (i.e., the model we apply in the web service).\n",
        "\n",
        "\n",
        "2、本指南供感兴趣的研究者参考，用于复现模型训练结果或在本地使用预训练模型进行预测。\n",
        "\n",
        "This guide is for interested researchers to reproduce model training results or to make predictions locally using pre-trained models.\n",
        "\n",
        "3、本指南事实上是selene-sdk在我们的数据和预训练模型上的应用指南。\n",
        "\n",
        "This guide is in fact a guide to the application of selene-sdk on our data and pre-trained models.\n",
        "\n",
        "4、再次感谢selene-sdk的开发者提供了该工具。\n",
        "\n",
        "Thanks again to the developers of selene-sdk for making the tool available."
      ]
    },
    {
      "cell_type": "code",
      "metadata": {
        "colab": {
          "base_uri": "https://localhost:8080/"
        },
        "id": "3TBCD-k64gMd",
        "outputId": "45436af8-9ded-46a7-f2f8-fc632c25a088"
      },
      "source": [
        "# 无论是复现模型结果还是使用预训练模型，您都需要首先安装selene-sdk（https://github.com/FunctionLab/selene）及对应版本的pytorch。\n",
        "# Whether you are reproducing model results or using a pre-trained model, you will first need to install selene-sdk (https://github.com/FunctionLab/selene) and the corresponding version of pytorch.\n",
        "\n",
        "# 此处，我们假设您已经完成 PyTorch 的安装 \n",
        "# Here, we assume that you have already installed PyTorch.\n",
        "\n",
        "# 安装selene-sdk\n",
        "# Install selene-sdk\n",
        "! pip install selene-sdk"
      ],
      "execution_count": null,
      "outputs": [
        {
          "name": "stdout",
          "output_type": "stream",
          "text": [
            "Collecting selene-sdk\n",
            "  Downloading selene-sdk-0.5.0.tar.gz (1.3 MB)\n",
            "\u001b[?25l\r\u001b[K     |▎                               | 10 kB 24.5 MB/s eta 0:00:01\r\u001b[K     |▌                               | 20 kB 29.3 MB/s eta 0:00:01\r\u001b[K     |▊                               | 30 kB 16.7 MB/s eta 0:00:01\r\u001b[K     |█                               | 40 kB 11.3 MB/s eta 0:00:01\r\u001b[K     |█▏                              | 51 kB 5.8 MB/s eta 0:00:01\r\u001b[K     |█▌                              | 61 kB 6.4 MB/s eta 0:00:01\r\u001b[K     |█▊                              | 71 kB 6.0 MB/s eta 0:00:01\r\u001b[K     |██                              | 81 kB 6.8 MB/s eta 0:00:01\r\u001b[K     |██▏                             | 92 kB 5.1 MB/s eta 0:00:01\r\u001b[K     |██▍                             | 102 kB 5.4 MB/s eta 0:00:01\r\u001b[K     |██▊                             | 112 kB 5.4 MB/s eta 0:00:01\r\u001b[K     |███                             | 122 kB 5.4 MB/s eta 0:00:01\r\u001b[K     |███▏                            | 133 kB 5.4 MB/s eta 0:00:01\r\u001b[K     |███▍                            | 143 kB 5.4 MB/s eta 0:00:01\r\u001b[K     |███▋                            | 153 kB 5.4 MB/s eta 0:00:01\r\u001b[K     |████                            | 163 kB 5.4 MB/s eta 0:00:01\r\u001b[K     |████▏                           | 174 kB 5.4 MB/s eta 0:00:01\r\u001b[K     |████▍                           | 184 kB 5.4 MB/s eta 0:00:01\r\u001b[K     |████▋                           | 194 kB 5.4 MB/s eta 0:00:01\r\u001b[K     |████▉                           | 204 kB 5.4 MB/s eta 0:00:01\r\u001b[K     |█████▏                          | 215 kB 5.4 MB/s eta 0:00:01\r\u001b[K     |█████▍                          | 225 kB 5.4 MB/s eta 0:00:01\r\u001b[K     |█████▋                          | 235 kB 5.4 MB/s eta 0:00:01\r\u001b[K     |█████▉                          | 245 kB 5.4 MB/s eta 0:00:01\r\u001b[K     |██████                          | 256 kB 5.4 MB/s eta 0:00:01\r\u001b[K     |██████▍                         | 266 kB 5.4 MB/s eta 0:00:01\r\u001b[K     |██████▋                         | 276 kB 5.4 MB/s eta 0:00:01\r\u001b[K     |██████▉                         | 286 kB 5.4 MB/s eta 0:00:01\r\u001b[K     |███████                         | 296 kB 5.4 MB/s eta 0:00:01\r\u001b[K     |███████▎                        | 307 kB 5.4 MB/s eta 0:00:01\r\u001b[K     |███████▌                        | 317 kB 5.4 MB/s eta 0:00:01\r\u001b[K     |███████▉                        | 327 kB 5.4 MB/s eta 0:00:01\r\u001b[K     |████████                        | 337 kB 5.4 MB/s eta 0:00:01\r\u001b[K     |████████▎                       | 348 kB 5.4 MB/s eta 0:00:01\r\u001b[K     |████████▌                       | 358 kB 5.4 MB/s eta 0:00:01\r\u001b[K     |████████▊                       | 368 kB 5.4 MB/s eta 0:00:01\r\u001b[K     |█████████                       | 378 kB 5.4 MB/s eta 0:00:01\r\u001b[K     |█████████▎                      | 389 kB 5.4 MB/s eta 0:00:01\r\u001b[K     |█████████▌                      | 399 kB 5.4 MB/s eta 0:00:01\r\u001b[K     |█████████▊                      | 409 kB 5.4 MB/s eta 0:00:01\r\u001b[K     |██████████                      | 419 kB 5.4 MB/s eta 0:00:01\r\u001b[K     |██████████▎                     | 430 kB 5.4 MB/s eta 0:00:01\r\u001b[K     |██████████▌                     | 440 kB 5.4 MB/s eta 0:00:01\r\u001b[K     |██████████▊                     | 450 kB 5.4 MB/s eta 0:00:01\r\u001b[K     |███████████                     | 460 kB 5.4 MB/s eta 0:00:01\r\u001b[K     |███████████▏                    | 471 kB 5.4 MB/s eta 0:00:01\r\u001b[K     |███████████▌                    | 481 kB 5.4 MB/s eta 0:00:01\r\u001b[K     |███████████▊                    | 491 kB 5.4 MB/s eta 0:00:01\r\u001b[K     |████████████                    | 501 kB 5.4 MB/s eta 0:00:01\r\u001b[K     |████████████▏                   | 512 kB 5.4 MB/s eta 0:00:01\r\u001b[K     |████████████▍                   | 522 kB 5.4 MB/s eta 0:00:01\r\u001b[K     |████████████▊                   | 532 kB 5.4 MB/s eta 0:00:01\r\u001b[K     |█████████████                   | 542 kB 5.4 MB/s eta 0:00:01\r\u001b[K     |█████████████▏                  | 552 kB 5.4 MB/s eta 0:00:01\r\u001b[K     |█████████████▍                  | 563 kB 5.4 MB/s eta 0:00:01\r\u001b[K     |█████████████▋                  | 573 kB 5.4 MB/s eta 0:00:01\r\u001b[K     |█████████████▉                  | 583 kB 5.4 MB/s eta 0:00:01\r\u001b[K     |██████████████▏                 | 593 kB 5.4 MB/s eta 0:00:01\r\u001b[K     |██████████████▍                 | 604 kB 5.4 MB/s eta 0:00:01\r\u001b[K     |██████████████▋                 | 614 kB 5.4 MB/s eta 0:00:01\r\u001b[K     |██████████████▉                 | 624 kB 5.4 MB/s eta 0:00:01\r\u001b[K     |███████████████                 | 634 kB 5.4 MB/s eta 0:00:01\r\u001b[K     |███████████████▍                | 645 kB 5.4 MB/s eta 0:00:01\r\u001b[K     |███████████████▋                | 655 kB 5.4 MB/s eta 0:00:01\r\u001b[K     |███████████████▉                | 665 kB 5.4 MB/s eta 0:00:01\r\u001b[K     |████████████████                | 675 kB 5.4 MB/s eta 0:00:01\r\u001b[K     |████████████████▎               | 686 kB 5.4 MB/s eta 0:00:01\r\u001b[K     |████████████████▋               | 696 kB 5.4 MB/s eta 0:00:01\r\u001b[K     |████████████████▉               | 706 kB 5.4 MB/s eta 0:00:01\r\u001b[K     |█████████████████               | 716 kB 5.4 MB/s eta 0:00:01\r\u001b[K     |█████████████████▎              | 727 kB 5.4 MB/s eta 0:00:01\r\u001b[K     |█████████████████▌              | 737 kB 5.4 MB/s eta 0:00:01\r\u001b[K     |█████████████████▉              | 747 kB 5.4 MB/s eta 0:00:01\r\u001b[K     |██████████████████              | 757 kB 5.4 MB/s eta 0:00:01\r\u001b[K     |██████████████████▎             | 768 kB 5.4 MB/s eta 0:00:01\r\u001b[K     |██████████████████▌             | 778 kB 5.4 MB/s eta 0:00:01\r\u001b[K     |██████████████████▊             | 788 kB 5.4 MB/s eta 0:00:01\r\u001b[K     |███████████████████             | 798 kB 5.4 MB/s eta 0:00:01\r\u001b[K     |███████████████████▎            | 808 kB 5.4 MB/s eta 0:00:01\r\u001b[K     |███████████████████▌            | 819 kB 5.4 MB/s eta 0:00:01\r\u001b[K     |███████████████████▊            | 829 kB 5.4 MB/s eta 0:00:01\r\u001b[K     |████████████████████            | 839 kB 5.4 MB/s eta 0:00:01\r\u001b[K     |████████████████████▏           | 849 kB 5.4 MB/s eta 0:00:01\r\u001b[K     |████████████████████▌           | 860 kB 5.4 MB/s eta 0:00:01\r\u001b[K     |████████████████████▊           | 870 kB 5.4 MB/s eta 0:00:01\r\u001b[K     |█████████████████████           | 880 kB 5.4 MB/s eta 0:00:01\r\u001b[K     |█████████████████████▏          | 890 kB 5.4 MB/s eta 0:00:01\r\u001b[K     |█████████████████████▍          | 901 kB 5.4 MB/s eta 0:00:01\r\u001b[K     |█████████████████████▊          | 911 kB 5.4 MB/s eta 0:00:01\r\u001b[K     |██████████████████████          | 921 kB 5.4 MB/s eta 0:00:01\r\u001b[K     |██████████████████████▏         | 931 kB 5.4 MB/s eta 0:00:01\r\u001b[K     |██████████████████████▍         | 942 kB 5.4 MB/s eta 0:00:01\r\u001b[K     |██████████████████████▋         | 952 kB 5.4 MB/s eta 0:00:01\r\u001b[K     |███████████████████████         | 962 kB 5.4 MB/s eta 0:00:01\r\u001b[K     |███████████████████████▏        | 972 kB 5.4 MB/s eta 0:00:01\r\u001b[K     |███████████████████████▍        | 983 kB 5.4 MB/s eta 0:00:01\r\u001b[K     |███████████████████████▋        | 993 kB 5.4 MB/s eta 0:00:01\r\u001b[K     |███████████████████████▉        | 1.0 MB 5.4 MB/s eta 0:00:01\r\u001b[K     |████████████████████████▏       | 1.0 MB 5.4 MB/s eta 0:00:01\r\u001b[K     |████████████████████████▍       | 1.0 MB 5.4 MB/s eta 0:00:01\r\u001b[K     |████████████████████████▋       | 1.0 MB 5.4 MB/s eta 0:00:01\r\u001b[K     |████████████████████████▉       | 1.0 MB 5.4 MB/s eta 0:00:01\r\u001b[K     |█████████████████████████       | 1.1 MB 5.4 MB/s eta 0:00:01\r\u001b[K     |█████████████████████████▍      | 1.1 MB 5.4 MB/s eta 0:00:01\r\u001b[K     |█████████████████████████▋      | 1.1 MB 5.4 MB/s eta 0:00:01\r\u001b[K     |█████████████████████████▉      | 1.1 MB 5.4 MB/s eta 0:00:01\r\u001b[K     |██████████████████████████      | 1.1 MB 5.4 MB/s eta 0:00:01\r\u001b[K     |██████████████████████████▎     | 1.1 MB 5.4 MB/s eta 0:00:01\r\u001b[K     |██████████████████████████▌     | 1.1 MB 5.4 MB/s eta 0:00:01\r\u001b[K     |██████████████████████████▉     | 1.1 MB 5.4 MB/s eta 0:00:01\r\u001b[K     |███████████████████████████     | 1.1 MB 5.4 MB/s eta 0:00:01\r\u001b[K     |███████████████████████████▎    | 1.1 MB 5.4 MB/s eta 0:00:01\r\u001b[K     |███████████████████████████▌    | 1.2 MB 5.4 MB/s eta 0:00:01\r\u001b[K     |███████████████████████████▊    | 1.2 MB 5.4 MB/s eta 0:00:01\r\u001b[K     |████████████████████████████    | 1.2 MB 5.4 MB/s eta 0:00:01\r\u001b[K     |████████████████████████████▎   | 1.2 MB 5.4 MB/s eta 0:00:01\r\u001b[K     |████████████████████████████▌   | 1.2 MB 5.4 MB/s eta 0:00:01\r\u001b[K     |████████████████████████████▊   | 1.2 MB 5.4 MB/s eta 0:00:01\r\u001b[K     |█████████████████████████████   | 1.2 MB 5.4 MB/s eta 0:00:01\r\u001b[K     |█████████████████████████████▎  | 1.2 MB 5.4 MB/s eta 0:00:01\r\u001b[K     |█████████████████████████████▌  | 1.2 MB 5.4 MB/s eta 0:00:01\r\u001b[K     |█████████████████████████████▊  | 1.2 MB 5.4 MB/s eta 0:00:01\r\u001b[K     |██████████████████████████████  | 1.3 MB 5.4 MB/s eta 0:00:01\r\u001b[K     |██████████████████████████████▏ | 1.3 MB 5.4 MB/s eta 0:00:01\r\u001b[K     |██████████████████████████████▌ | 1.3 MB 5.4 MB/s eta 0:00:01\r\u001b[K     |██████████████████████████████▊ | 1.3 MB 5.4 MB/s eta 0:00:01\r\u001b[K     |███████████████████████████████ | 1.3 MB 5.4 MB/s eta 0:00:01\r\u001b[K     |███████████████████████████████▏| 1.3 MB 5.4 MB/s eta 0:00:01\r\u001b[K     |███████████████████████████████▍| 1.3 MB 5.4 MB/s eta 0:00:01\r\u001b[K     |███████████████████████████████▊| 1.3 MB 5.4 MB/s eta 0:00:01\r\u001b[K     |████████████████████████████████| 1.3 MB 5.4 MB/s eta 0:00:01\r\u001b[K     |████████████████████████████████| 1.3 MB 5.4 MB/s \n",
            "\u001b[?25h  Installing build dependencies ... \u001b[?25l\u001b[?25hdone\n",
            "  Getting requirements to build wheel ... \u001b[?25l\u001b[?25hdone\n",
            "    Preparing wheel metadata ... \u001b[?25l\u001b[?25hdone\n",
            "Requirement already satisfied: cython>=0.27.3 in /usr/local/lib/python3.7/dist-packages (from selene-sdk) (0.29.24)\n",
            "Requirement already satisfied: numpy in /usr/local/lib/python3.7/dist-packages (from selene-sdk) (1.19.5)\n",
            "Collecting pyfaidx\n",
            "  Downloading pyfaidx-0.6.2.tar.gz (32 kB)\n",
            "Requirement already satisfied: scipy in /usr/local/lib/python3.7/dist-packages (from selene-sdk) (1.4.1)\n",
            "Requirement already satisfied: h5py in /usr/local/lib/python3.7/dist-packages (from selene-sdk) (3.1.0)\n",
            "Collecting pytabix\n",
            "  Downloading pytabix-0.1.tar.gz (45 kB)\n",
            "\u001b[K     |████████████████████████████████| 45 kB 2.8 MB/s \n",
            "\u001b[?25hCollecting torch<=1.4.0,>=0.4.1\n",
            "  Downloading torch-1.4.0-cp37-cp37m-manylinux1_x86_64.whl (753.4 MB)\n",
            "\u001b[K     |████████████████████████████████| 753.4 MB 6.5 kB/s \n",
            "\u001b[?25hRequirement already satisfied: matplotlib>=2.2.3 in /usr/local/lib/python3.7/dist-packages (from selene-sdk) (3.2.2)\n",
            "Requirement already satisfied: plotly in /usr/local/lib/python3.7/dist-packages (from selene-sdk) (4.4.1)\n",
            "Requirement already satisfied: scikit-learn in /usr/local/lib/python3.7/dist-packages (from selene-sdk) (0.22.2.post1)\n",
            "Requirement already satisfied: seaborn in /usr/local/lib/python3.7/dist-packages (from selene-sdk) (0.11.1)\n",
            "Requirement already satisfied: statsmodels in /usr/local/lib/python3.7/dist-packages (from selene-sdk) (0.10.2)\n",
            "Collecting pyyaml>=5.1\n",
            "  Downloading PyYAML-5.4.1-cp37-cp37m-manylinux1_x86_64.whl (636 kB)\n",
            "\u001b[K     |████████████████████████████████| 636 kB 50.3 MB/s \n",
            "\u001b[?25hRequirement already satisfied: click in /usr/local/lib/python3.7/dist-packages (from selene-sdk) (7.1.2)\n",
            "Requirement already satisfied: pandas in /usr/local/lib/python3.7/dist-packages (from selene-sdk) (1.1.5)\n",
            "Requirement already satisfied: pyparsing!=2.0.4,!=2.1.2,!=2.1.6,>=2.0.1 in /usr/local/lib/python3.7/dist-packages (from matplotlib>=2.2.3->selene-sdk) (2.4.7)\n",
            "Requirement already satisfied: kiwisolver>=1.0.1 in /usr/local/lib/python3.7/dist-packages (from matplotlib>=2.2.3->selene-sdk) (1.3.1)\n",
            "Requirement already satisfied: python-dateutil>=2.1 in /usr/local/lib/python3.7/dist-packages (from matplotlib>=2.2.3->selene-sdk) (2.8.2)\n",
            "Requirement already satisfied: cycler>=0.10 in /usr/local/lib/python3.7/dist-packages (from matplotlib>=2.2.3->selene-sdk) (0.10.0)\n",
            "Requirement already satisfied: six in /usr/local/lib/python3.7/dist-packages (from cycler>=0.10->matplotlib>=2.2.3->selene-sdk) (1.15.0)\n",
            "Requirement already satisfied: cached-property in /usr/local/lib/python3.7/dist-packages (from h5py->selene-sdk) (1.5.2)\n",
            "Requirement already satisfied: pytz>=2017.2 in /usr/local/lib/python3.7/dist-packages (from pandas->selene-sdk) (2018.9)\n",
            "Requirement already satisfied: retrying>=1.3.3 in /usr/local/lib/python3.7/dist-packages (from plotly->selene-sdk) (1.3.3)\n",
            "Requirement already satisfied: setuptools>=0.7 in /usr/local/lib/python3.7/dist-packages (from pyfaidx->selene-sdk) (57.4.0)\n",
            "Requirement already satisfied: joblib>=0.11 in /usr/local/lib/python3.7/dist-packages (from scikit-learn->selene-sdk) (1.0.1)\n",
            "Requirement already satisfied: patsy>=0.4.0 in /usr/local/lib/python3.7/dist-packages (from statsmodels->selene-sdk) (0.5.1)\n",
            "Building wheels for collected packages: selene-sdk, pyfaidx, pytabix\n",
            "  Building wheel for selene-sdk (PEP 517) ... \u001b[?25l\u001b[?25hdone\n",
            "  Created wheel for selene-sdk: filename=selene_sdk-0.5.0-cp37-cp37m-linux_x86_64.whl size=1525578 sha256=7f475603250c002bc099e5d99fafc2d8efd66d03bd7e11df83731cafe29517b8\n",
            "  Stored in directory: /root/.cache/pip/wheels/09/ef/33/2b6a1e5a33d3d54f70e044e461c58c12f294b6692fe29c5229\n",
            "  Building wheel for pyfaidx (setup.py) ... \u001b[?25l\u001b[?25hdone\n",
            "  Created wheel for pyfaidx: filename=pyfaidx-0.6.2-py3-none-any.whl size=26300 sha256=5e841d3fcb900bf401645fd4d579673b9b6c822ce7091b6f934b8668694f77f3\n",
            "  Stored in directory: /root/.cache/pip/wheels/d9/7c/4a/8ce3d8136233bd45bd6222c86c109e302dc0bb6915ed92fe5d\n",
            "  Building wheel for pytabix (setup.py) ... \u001b[?25l\u001b[?25hdone\n",
            "  Created wheel for pytabix: filename=pytabix-0.1-cp37-cp37m-linux_x86_64.whl size=111067 sha256=6fe9629e67cf52d22db57e01c07d8ddbd20b8e03bbf8769f24f2da594bc3afbe\n",
            "  Stored in directory: /root/.cache/pip/wheels/55/4d/1d/fc743db0d70fd6a1febcba209590ced410c8d2b6ef75d1a9bc\n",
            "Successfully built selene-sdk pyfaidx pytabix\n",
            "Installing collected packages: torch, pyyaml, pytabix, pyfaidx, selene-sdk\n",
            "  Attempting uninstall: torch\n",
            "    Found existing installation: torch 1.9.0+cu102\n",
            "    Uninstalling torch-1.9.0+cu102:\n",
            "      Successfully uninstalled torch-1.9.0+cu102\n",
            "  Attempting uninstall: pyyaml\n",
            "    Found existing installation: PyYAML 3.13\n",
            "    Uninstalling PyYAML-3.13:\n",
            "      Successfully uninstalled PyYAML-3.13\n",
            "\u001b[31mERROR: pip's dependency resolver does not currently take into account all the packages that are installed. This behaviour is the source of the following dependency conflicts.\n",
            "torchvision 0.10.0+cu102 requires torch==1.9.0, but you have torch 1.4.0 which is incompatible.\n",
            "torchtext 0.10.0 requires torch==1.9.0, but you have torch 1.4.0 which is incompatible.\u001b[0m\n",
            "Successfully installed pyfaidx-0.6.2 pytabix-0.1 pyyaml-5.4.1 selene-sdk-0.5.0 torch-1.4.0\n"
          ]
        }
      ]
    },
    {
      "cell_type": "markdown",
      "metadata": {
        "id": "ncHDOs5oYHTW"
      },
      "source": [
        "### 我们以水稻Zhenshan97为例，展示模型训练和预训练模型应用方法\n",
        "### We use rice Zhenshan97 as an example to demonstrate the model training and pre-training model application methods."
      ]
    },
    {
      "cell_type": "markdown",
      "metadata": {
        "id": "UXEfrqK7ZjOM"
      },
      "source": [
        "#### 训练模型（Training Model）"
      ]
    },
    {
      "cell_type": "code",
      "metadata": {
        "colab": {
          "base_uri": "https://localhost:8080/"
        },
        "id": "ny5cMP7hYlAr",
        "outputId": "d17dfc38-122f-41a1-efbe-a48fc71234ee"
      },
      "source": [
        "# 数据下载\n",
        "# Data Download\n",
        "\n",
        "# 下载除参考基因组外的数据文件\n",
        "# Download data files other than the reference genome\n",
        "! wget http://plantdeepsea.ncpgr.cn/model_and_data/training_data/zs.zip\n",
        "! unzip zs.zip\n",
        "! ls zs\n",
        "\n",
        "# 下载对应参考基因组文件\n",
        "# Download the corresponding reference genome file"
      ],
      "execution_count": null,
      "outputs": [
        {
          "name": "stdout",
          "output_type": "stream",
          "text": [
            "--2021-09-13 12:24:43--  http://plantdeepsea.ncpgr.cn/model_and_data/training_data/zs.zip\n",
            "Resolving plantdeepsea.ncpgr.cn (plantdeepsea.ncpgr.cn)... 211.69.140.157\n",
            "Connecting to plantdeepsea.ncpgr.cn (plantdeepsea.ncpgr.cn)|211.69.140.157|:80... connected.\n",
            "HTTP request sent, awaiting response... 200 OK\n",
            "Length: 14103820 (13M) [application/zip]\n",
            "Saving to: ‘zs.zip’\n",
            "\n",
            "zs.zip              100%[===================>]  13.45M  4.61MB/s    in 2.9s    \n",
            "\n",
            "2021-09-13 12:24:47 (4.61 MB/s) - ‘zs.zip’ saved [14103820/14103820]\n",
            "\n",
            "Archive:  zs.zip\n",
            "   creating: zs/\n",
            "  inflating: zs/sorted_zs97_15tissues.bed.gz  \n",
            "  inflating: zs/sorted_zs97_15tissues.bed.gz.tbi  \n",
            "  inflating: zs/sorted_zs97_15tissues.bed  \n",
            "  inflating: zs/distinct_features.txt  \n",
            "  inflating: zs/g_interval_bed.py    \n",
            "  inflating: zs/ZS97_genome_interval.bed  \n",
            "  inflating: zs/ZS97.genome          \n",
            "distinct_features.txt\t      sorted_zs97_15tissues.bed.gz.tbi\n",
            "g_interval_bed.py\t      ZS97.genome\n",
            "sorted_zs97_15tissues.bed     ZS97_genome_interval.bed\n",
            "sorted_zs97_15tissues.bed.gz\n"
          ]
        }
      ]
    },
    {
      "cell_type": "code",
      "metadata": {
        "colab": {
          "base_uri": "https://localhost:8080/"
        },
        "id": "yUmrFJZxOtqV",
        "outputId": "63320e1d-936a-4909-80b1-96029fcaf5fe"
      },
      "source": [
        "# 下载模型结构文件、模型配置文件\n",
        "# Download model structure files, model configuration files\n",
        "! wget http://plantdeepsea.ncpgr.cn/model_and_data/training_config_files/zs_train.yml\n",
        "! wget http://plantdeepsea.ncpgr.cn/model_and_data/deeperdeepsea.py"
      ],
      "execution_count": null,
      "outputs": [
        {
          "name": "stdout",
          "output_type": "stream",
          "text": [
            "--2021-09-13 12:25:12--  http://plantdeepsea.ncpgr.cn/model_and_data/training_config_files/zs_train.yml\n",
            "Resolving plantdeepsea.ncpgr.cn (plantdeepsea.ncpgr.cn)... 211.69.140.157\n",
            "Connecting to plantdeepsea.ncpgr.cn (plantdeepsea.ncpgr.cn)|211.69.140.157|:80... connected.\n",
            "HTTP request sent, awaiting response... 200 OK\n",
            "Length: 1792 (1.8K) [text/plain]\n",
            "Saving to: ‘zs_train.yml’\n",
            "\n",
            "zs_train.yml        100%[===================>]   1.75K  --.-KB/s    in 0s      \n",
            "\n",
            "2021-09-13 12:25:14 (177 MB/s) - ‘zs_train.yml’ saved [1792/1792]\n",
            "\n",
            "--2021-09-13 12:25:14--  http://plantdeepsea.ncpgr.cn/model_and_data/deeperdeepsea.py\n",
            "Resolving plantdeepsea.ncpgr.cn (plantdeepsea.ncpgr.cn)... 211.69.140.157\n",
            "Connecting to plantdeepsea.ncpgr.cn (plantdeepsea.ncpgr.cn)|211.69.140.157|:80... connected.\n",
            "HTTP request sent, awaiting response... 200 OK\n",
            "Length: 3527 (3.4K) [text/plain]\n",
            "Saving to: ‘deeperdeepsea.py’\n",
            "\n",
            "deeperdeepsea.py    100%[===================>]   3.44K  16.6KB/s    in 0.2s    \n",
            "\n",
            "2021-09-13 12:25:18 (16.6 KB/s) - ‘deeperdeepsea.py’ saved [3527/3527]\n",
            "\n"
          ]
        }
      ]
    },
    {
      "cell_type": "code",
      "metadata": {
        "colab": {
          "base_uri": "https://localhost:8080/"
        },
        "id": "8kOtwCa8XS36",
        "outputId": "9d199d11-fa68-4d25-efb7-79e5b63b1877"
      },
      "source": [
        "# 查看配置文件\n",
        "# View model configuration files\n",
        "! cat ./zs_train.yml\n",
        "\n",
        "# 您需要修改配置文件中的数据文件路径，以保证与您的实际文件存储路径相匹配\n",
        "# You will need to modify the data file path in the configuration file to ensure that it matches your actual file storage path."
      ],
      "execution_count": null,
      "outputs": [
        {
          "name": "stdout",
          "output_type": "stream",
          "text": [
            "---\n",
            "ops: [train, evaluate]\n",
            "model: {\n",
            "    # TODO: update this line with the absolute path to the file.\n",
            "    path: <ABSOLUTE_PATH>/deeperdeepsea.py,\n",
            "    class: DeeperDeepSEA,\n",
            "    class_args: {\n",
            "        sequence_length: 1000,\n",
            "        n_targets: 15,\n",
            "    },\n",
            "    non_strand_specific: mean\n",
            "}\n",
            "sampler: !obj:selene_sdk.samplers.IntervalsSampler {\n",
            "    reference_sequence: !obj:selene_sdk.sequences.Genome {\n",
            "        # we include relative paths here, but we recommend using absolute\n",
            "        # paths for future configuration files\n",
            "        input_path: ./genome/ZS97.fasta\n",
            "    },\n",
            "    features: !obj:selene_sdk.utils.load_features_list {\n",
            "        input_path: ./data/zs/distinct_features.txt\n",
            "    },\n",
            "    target_path: ./data/zs/sorted_zs97_15tissues.bed.gz,\n",
            "    intervals_path: ./data/zs/ZS97_genome_interval.bed,\n",
            "    seed: 127,\n",
            "    # A positive example is an 1000bp sequence with at least 1 class/feature annotated to it.\n",
            "    # A negative sample has no classes/features annotated to the sequence.\n",
            "    sample_negative: True,\n",
            "    sequence_length: 1000,\n",
            "    center_bin_to_predict: 200,\n",
            "    test_holdout: [chr08, chr09],\n",
            "    validation_holdout: [chr06, chr07],\n",
            "    # The feature must take up 50% of the bin (200bp) for it to be considered\n",
            "    # a feature annotated to that sequence.\n",
            "    feature_thresholds: 0.5,\n",
            "    mode: train,\n",
            "    save_datasets: [train, validate, test]\n",
            "}\n",
            "train_model: !obj:selene_sdk.TrainModel {\n",
            "    batch_size: 256,\n",
            "    max_steps: 20000,  # update this value for longer training\n",
            "    report_stats_every_n_steps: 1000,\n",
            "    n_validation_samples: 15000,\n",
            "    n_test_samples: 15000,\n",
            "    cpu_n_threads: 16,\n",
            "    use_cuda: True,  # TODO: update this if CUDA is not on your machine\n",
            "    data_parallel: True\n",
            "}\n",
            "random_seed: 147\n",
            "output_dir: ./models/zs_model\n",
            "create_subdirectory: False\n",
            "load_test_set: False\n",
            "...\n"
          ]
        }
      ]
    },
    {
      "cell_type": "code",
      "metadata": {
        "id": "U7vzDvGK4U71"
      },
      "source": [
        "from selene_sdk.utils import load_path\n",
        "from selene_sdk.utils import parse_configs_and_run\n",
        "\n",
        "# 加载配置文件\n",
        "# Loading configuration files\n",
        "configs = load_path(\"./zs_train.yml\")\n",
        "\n",
        "# 开始训练（学习率设为0.01），结果将保存在yml文件中指定的输出路径\n",
        "# Start training (learning rate is set to 0.01), the results will be saved in the output path specified in the yml file\n",
        "# 该步骤需要较长时间，故不作运行展示。\n",
        "# This step takes a long time, so it is not shown running.\n",
        "parse_configs_and_run(configs,lr=0.01)"
      ],
      "execution_count": null,
      "outputs": []
    },
    {
      "cell_type": "code",
      "metadata": {
        "id": "PGaUQ0OEH0W6"
      },
      "source": [
        ""
      ],
      "execution_count": null,
      "outputs": []
    },
    {
      "cell_type": "markdown",
      "metadata": {
        "id": "6xhnxVG_ZlbB"
      },
      "source": [
        "#### 使用预训练模型"
      ]
    },
    {
      "cell_type": "code",
      "metadata": {
        "colab": {
          "base_uri": "https://localhost:8080/"
        },
        "id": "Eck1y0o-4iQw",
        "outputId": "dfb46a23-80c1-415f-c8b2-1f40481432cb"
      },
      "source": [
        "# 下载预训练模型文件\n",
        "# Download pre-trained model files\n",
        "! wget http://plantdeepsea.ncpgr.cn/model_and_data/models/zs_model.zip\n",
        "! unzip zs_model.zip\n",
        "! ls zs_model"
      ],
      "execution_count": null,
      "outputs": [
        {
          "name": "stdout",
          "output_type": "stream",
          "text": [
            "--2021-09-13 12:27:04--  http://plantdeepsea.ncpgr.cn/model_and_data/models/zs_model.zip\n",
            "Resolving plantdeepsea.ncpgr.cn (plantdeepsea.ncpgr.cn)... 211.69.140.157\n",
            "Connecting to plantdeepsea.ncpgr.cn (plantdeepsea.ncpgr.cn)|211.69.140.157|:80... connected.\n",
            "HTTP request sent, awaiting response... 200 OK\n",
            "Length: 169812055 (162M) [application/zip]\n",
            "Saving to: ‘zs_model.zip’\n",
            "\n",
            "zs_model.zip        100%[===================>] 161.95M  7.05MB/s    in 25s     \n",
            "\n",
            "2021-09-13 12:27:30 (6.41 MB/s) - ‘zs_model.zip’ saved [169812055/169812055]\n",
            "\n",
            "Archive:  zs_model.zip\n",
            "   creating: zs_model/\n",
            "  inflating: zs_model/selene_sdk.train_model.log  \n",
            "  inflating: zs_model/validate_data.bed  \n",
            "  inflating: zs_model/selene_sdk.train_model.train.txt  \n",
            "  inflating: zs_model/selene_sdk.train_model.validation.txt  \n",
            "  inflating: zs_model/best_model.pth.tar  \n",
            "  inflating: zs_model/test_data.bed  \n",
            "  inflating: zs_model/test_targets.npz  \n",
            "  inflating: zs_model/test_predictions.npz  \n",
            "  inflating: zs_model/test_performance.txt  \n",
            "  inflating: zs_model/roc_curves.pdf  \n",
            "  inflating: zs_model/precision_recall_curves.pdf  \n",
            "  inflating: zs_model/train_data.bed  \n",
            "best_model.pth.tar\t\t       test_data.bed\n",
            "precision_recall_curves.pdf\t       test_performance.txt\n",
            "roc_curves.pdf\t\t\t       test_predictions.npz\n",
            "selene_sdk.train_model.log\t       test_targets.npz\n",
            "selene_sdk.train_model.train.txt       train_data.bed\n",
            "selene_sdk.train_model.validation.txt  validate_data.bed\n"
          ]
        }
      ]
    },
    {
      "cell_type": "code",
      "metadata": {
        "colab": {
          "base_uri": "https://localhost:8080/",
          "height": 17
        },
        "id": "T0vyzLSdXcUy",
        "outputId": "eb1dcc8e-7475-4815-b63e-a1e9644c14b7"
      },
      "source": [
        "\n",
        "import os\n",
        "# 可视化模块\n",
        "# Visualization Module\n",
        "from plotly.offline import download_plotlyjs, init_notebook_mode, iplot\n",
        "init_notebook_mode(connected=True)\n",
        "\n",
        "# 所有用于变异效应预测和计算机模拟诱变的模块\n",
        "# All the necessary methods to do variant effect prediction and in silico mutagenesis.\n",
        "from selene_sdk.predict import AnalyzeSequences\n",
        "from selene_sdk.sequences import Genome\n",
        "from selene_sdk.utils import load_features_list\n",
        "from selene_sdk.utils import NonStrandSpecific\n",
        "from selene_sdk.utils import DeeperDeepSEA"
      ],
      "execution_count": null,
      "outputs": [
        {
          "data": {
            "text/html": [
              "        <script type=\"text/javascript\">\n",
              "        window.PlotlyConfig = {MathJaxConfig: 'local'};\n",
              "        if (window.MathJax) {MathJax.Hub.Config({SVG: {font: \"STIX-Web\"}});}\n",
              "        if (typeof require !== 'undefined') {\n",
              "        require.undef(\"plotly\");\n",
              "        requirejs.config({\n",
              "            paths: {\n",
              "                'plotly': ['https://cdn.plot.ly/plotly-latest.min']\n",
              "            }\n",
              "        });\n",
              "        require(['plotly'], function(Plotly) {\n",
              "            window._Plotly = Plotly;\n",
              "        });\n",
              "        }\n",
              "        </script>\n",
              "        "
            ]
          },
          "metadata": {},
          "output_type": "display_data"
        }
      ]
    },
    {
      "cell_type": "code",
      "metadata": {
        "id": "sbR2v38cNGct"
      },
      "source": [
        "# 样本描述文件，记录了模型训练时所用的样本名\n",
        "# Sample description file, which records the sample names used in the model training\n",
        "distinct_features = load_features_list(\"./zs/distinct_features.txt\")\n",
        "\n",
        "model_predict = AnalyzeSequences(\n",
        "    NonStrandSpecific(DeeperDeepSEA(1000, 15)), # 1k为输入序列长度，15对应训练模型时使用的样本数，即distinct_features中的行数\n",
        "    \"/content/zs_model/best_model.pth.tar\",     # 1k is the length of the input sequence and 15 corresponds to the number of samples used in training the model, i.e., the number of rows in the distinct_features.   \n",
        "    sequence_length=1000,\n",
        "    features=distinct_features,\n",
        "    reference_sequence=Genome(\"/content/drive/MyDrive/ZS97.fasta\"),\n",
        "    use_cuda=True  # 使用CUDA加速，建议条件允许情况下选为True # Use CUDA acceleration, it is recommended to select True if conditions allow\n",
        ")\n",
        "\n",
        "# 变异注释\n",
        "# do variant effect prediction\n",
        "model_predict.variant_effect_prediction(\n",
        "    \"/content/drive/MyDrive/example.vcf\",\n",
        "    save_data= ['abs_diffs','diffs', 'logits', 'predictions'],\n",
        "    output_dir=\"./variants_output\")\n",
        "\n",
        "# !ls ./variants_output"
      ],
      "execution_count": null,
      "outputs": []
    },
    {
      "cell_type": "code",
      "metadata": {
        "colab": {
          "base_uri": "https://localhost:8080/"
        },
        "id": "mUR_BDrFFmQj",
        "outputId": "0249b88e-1010-4ce5-d55a-e75cffb6b5a4"
      },
      "source": [
        "! head ./variants_output/example_abs_diffs.tsv"
      ],
      "execution_count": null,
      "outputs": [
        {
          "name": "stdout",
          "output_type": "stream",
          "text": [
            "chrom\tpos\tname\tref\talt\tstrand\tref_match\tcontains_unk\tZS97_flag_leaf_1\tZS97_flag_leaf_2\tZS97_flower_1\tZS97_flower_2\tZS97_lemma_1\tZS97_lemma_2\tZS97_panicle_1\tZS97_panicle_2\tZS97_panicle_3\tZS97_panicle_4\tZS97_panicle_5\tZS97_root_1\tZS97_root_2\tZS97_young_leaf_1\tZS97_young_leaf_2\n",
            "chr09\t17599229\tvg0916410299\tG\tC\t+\tTrue\tFalse\t1.37e-02\t1.59e-02\t1.58e-02\t1.38e-02\t6.18e-03\t6.78e-03\t1.09e-02\t1.48e-03\t3.77e-03\t6.82e-03\t8.24e-03\t3.19e-03\t1.94e-03\t6.00e-03\t1.06e-03\n"
          ]
        }
      ]
    },
    {
      "cell_type": "code",
      "metadata": {
        "id": "2240-lZuaDjR"
      },
      "source": [
        ""
      ],
      "execution_count": null,
      "outputs": []
    },
    {
      "cell_type": "code",
      "metadata": {
        "colab": {
          "base_uri": "https://localhost:8080/"
        },
        "id": "fEA0QvesOZUw",
        "outputId": "cd825352-5d58-42ce-d83c-0de33eaf2c92"
      },
      "source": [
        "# 查看示例fasta序列\n",
        "# View an example fasta sequence\n",
        "! head /content/drive/MyDrive/example.fasta"
      ],
      "execution_count": null,
      "outputs": [
        {
          "name": "stdout",
          "output_type": "stream",
          "text": [
            ">example\n",
            "ACACAGCTAAAATGAATCGCATATGCAGTGAATGAGACTCTGAGAGCCCAGTTTAAGGTAGGAGTAGCATCAAATTCACTAGTCCTATACACCGGCACGT\n",
            "CGTCGCAGTGCAATTTTATACGATCTTCATGTGTGCATCAGTGCATGCTGTTTGCAGAAGGGAAGTTGGCCGCCTGCCCGTGCTGAGCTCAACTGAACGC\n",
            "TGGCTGCCTGCATGGCCAGTTCGTGACTACAGTTACTACGCATACTACCCGGGGTAGCAGCGGCGCGCTATCAGCTCTACCCGGAGTAGGCAGTAGCAGC\n",
            "AGTGGTGGTAGTAGTAGAAAGCGCGGCAGTGGAAGGGATAGAGGAGTGCCCACATTAATAACTCGTTTCAAATCGGACGGCGTGGCTACTCTAGTACACC\n",
            "CATTTCAACGGGCCGTTCCACTCCACTCCACCGTAACTGCGCGCGTGGGGCGACCCCATCACGTGCCACGGTACGGGGGCGTCGCTGACCGTCTCTGGCC\n",
            "CACCGCAACCCTGCTCCCCCAATCCAAACCCCGCGCTGCACGTCTCGCTGGCACTGGCCATTTCGATCCATCGCGGTCGCGGCCGCGGTATCACGACTGA\n",
            "CGCGCGGGGCCGGCCCGGCACGCGAGACCGATGTAGACGTGTCACCGGGGAAGCTTGTCCGCTCGCGGTTGCCGCTGCGCGGGGGGGAGGGGAGGGCGTC\n",
            "GAGCCGTACGTCGTCGTCGCATACCTCGGTCGCGTCCCTGTCAAAGCCGGCCATCGCTGCCGGCTGCTCAATTTATTCCCTTGCTGTTTCATTTCGTACG\n",
            "TAGTCCGCGCTCGGGATGCGGCCATAGCCATATCGCCATATATCTCGGGCAGGCACCGTCACGCTCGCTCGGCAACTGTACGTGCCGTCTCAGGACGCGG\n"
          ]
        }
      ]
    },
    {
      "cell_type": "code",
      "metadata": {
        "id": "3u72g6UKH0X7"
      },
      "source": [
        "# 计算机模拟诱变\n",
        "# in silico mutagenesis\n",
        "model_predict.in_silico_mutagenesis_from_file(\n",
        "    \"/content/drive/MyDrive/example.fasta\",\n",
        "    save_data=[\"abs_diffs\", \"diffs\", \"logits\", \"predictions\"],\n",
        "    output_dir=\"./mutations_output\")\n",
        "\n",
        "# !ls ./mutations_output"
      ],
      "execution_count": null,
      "outputs": []
    },
    {
      "cell_type": "code",
      "metadata": {
        "colab": {
          "base_uri": "https://localhost:8080/"
        },
        "id": "kNKXz3DFPnbo",
        "outputId": "dc412819-70b6-4ee0-e50d-b4bb3223d6bb"
      },
      "source": [
        "!head ./mutations_output/example_logits.tsv"
      ],
      "execution_count": null,
      "outputs": [
        {
          "name": "stdout",
          "output_type": "stream",
          "text": [
            "pos\tref\talt\tZS97_flag_leaf_1\tZS97_flag_leaf_2\tZS97_flower_1\tZS97_flower_2\tZS97_lemma_1\tZS97_lemma_2\tZS97_panicle_1\tZS97_panicle_2\tZS97_panicle_3\tZS97_panicle_4\tZS97_panicle_5\tZS97_root_1\tZS97_root_2\tZS97_young_leaf_1\tZS97_young_leaf_2\n",
            "0\tA\tC\t-3.76e-06\t-3.34e-06\t-1.79e-06\t-7.15e-07\t0.00e+00\t0.00e+00\t0.00e+00\t0.00e+00\t-7.15e-07\t0.00e+00\t0.00e+00\t-8.94e-07\t-7.75e-07\t-2.38e-06\t-2.41e-06\n",
            "0\tA\tG\t1.11e-05\t7.69e-06\t3.70e-06\t4.05e-06\t3.81e-06\t3.58e-06\t5.96e-06\t3.81e-06\t3.58e-06\t7.39e-06\t7.87e-06\t2.92e-06\t4.05e-06\t6.08e-06\t7.36e-06\n",
            "0\tA\tT\t-7.45e-07\t-7.75e-07\t-8.34e-07\t-7.15e-07\t0.00e+00\t0.00e+00\t0.00e+00\t-1.07e-06\t-7.15e-07\t0.00e+00\t0.00e+00\t-3.58e-07\t-2.98e-07\t-8.34e-07\t-1.88e-06\n",
            "1\tC\tA\t1.43e-05\t9.95e-06\t4.53e-06\t4.77e-06\t4.77e-06\t4.53e-06\t5.96e-06\t4.89e-06\t4.53e-06\t9.30e-06\t9.78e-06\t4.11e-06\t5.13e-06\t7.69e-06\t8.52e-06\n",
            "1\tC\tG\t-6.20e-06\t-6.91e-06\t-1.79e-06\t-7.15e-07\t0.00e+00\t1.19e-06\t3.10e-06\t2.26e-06\t1.43e-06\t3.81e-06\t3.81e-06\t-2.74e-06\t-3.10e-06\t-5.54e-06\t-4.83e-06\n",
            "1\tC\tT\t-6.20e-06\t-6.44e-06\t-8.34e-07\t0.00e+00\t0.00e+00\t1.19e-06\t3.10e-06\t2.74e-06\t2.15e-06\t3.81e-06\t3.81e-06\t-2.38e-06\t-2.80e-06\t-6.08e-06\t-5.60e-06\n",
            "2\tA\tC\t3.61e-05\t3.56e-05\t8.76e-05\t1.00e-04\t9.38e-05\t1.08e-04\t9.44e-05\t8.90e-05\t9.68e-05\t1.03e-04\t1.02e-04\t5.58e-05\t5.14e-05\t3.73e-05\t2.76e-05\n",
            "2\tA\tG\t1.71e-05\t1.92e-05\t3.89e-05\t4.20e-05\t4.36e-05\t4.72e-05\t4.20e-05\t3.16e-05\t4.22e-05\t3.55e-05\t3.77e-05\t2.34e-05\t2.09e-05\t1.82e-05\t1.17e-05\n",
            "2\tA\tT\t3.29e-05\t3.41e-05\t7.95e-05\t8.65e-05\t8.48e-05\t9.54e-05\t7.94e-05\t6.41e-05\t7.99e-05\t7.84e-05\t8.23e-05\t4.58e-05\t3.95e-05\t3.23e-05\t1.97e-05\n"
          ]
        }
      ]
    },
    {
      "cell_type": "code",
      "metadata": {
        "id": "_Sc3SmPyH0aX"
      },
      "source": [
        "\n"
      ],
      "execution_count": null,
      "outputs": []
    },
    {
      "cell_type": "code",
      "metadata": {
        "id": "RzlQjHZzH0ca"
      },
      "source": [
        "# 绘图函数复制自 https://github.com/FunctionLab/selene/blob/master/tutorials/variants_and_visualizations/variants_and_visualizations.ipynb  除颜色外未做更改\n",
        "# Drawing functions copied from https://github.com/FunctionLab/selene/blob/master/tutorials/variants_and_visualizations/variants_and_visualizations.ipynb except No change except for color\n",
        "import matplotlib.pyplot as plt\n",
        "import numpy as np\n",
        "\n",
        "from selene_sdk.interpret import heatmap\n",
        "from selene_sdk.interpret import ISMResult\n",
        "%matplotlib inline\n",
        "\n",
        "def _get_features_containing_str(feature_substring):\n",
        "    features = []\n",
        "    for feature in distinct_features:\n",
        "        if feature_substring in feature:\n",
        "            features.append(feature)\n",
        "    return features\n",
        "\n",
        "def _get_scores(ism_result, visualize_features, start, end):\n",
        "    matrices = []\n",
        "    for f in visualize_features:\n",
        "        score_matrix = ism_result.get_score_matrix_for(f)\n",
        "        matrices.append(score_matrix[start:end,])\n",
        "    return matrices\n",
        "\n",
        "def visualize(ism_result, target, start=0, end=200):\n",
        "    \"\"\"\n",
        "    Parameters\n",
        "    ----------\n",
        "    ism_result : selene.interpret.ISMResult\n",
        "        Output of `ISMResult.from_file` from an output file.\n",
        "    target : str\n",
        "        Pass in a feature name. If you want to visualize multiple features\n",
        "        that share the same substring, pass in that substring.\n",
        "    start : int\n",
        "        Starting position for the heatmap visualization.\n",
        "    end : int\n",
        "        Ending position for the heatmap visualization.\n",
        "    \n",
        "    \"\"\"\n",
        "    target_features = _get_features_containing_str(target)\n",
        "    matrices = _get_scores(ism_result, target_features, start, end)\n",
        "    reference_encoding = Genome.sequence_to_encoding(\n",
        "        ism_result.reference_sequence)[start:end,] == 1.\n",
        "    for ix, m in enumerate(matrices):\n",
        "        figure, (ax) = plt.subplots(1, 1, figsize=(24, 4))\n",
        "        ax.patch.set(edgecolor=\"gray\", hatch=\"//\")\n",
        "        ax.set_title(\"Feature {0}\".format(target_features[ix]))\n",
        "        \n",
        "        # Set the min and max for the colorbar so that it is centered at 0.\n",
        "        colorbar_bound = max(np.max(m), np.abs(np.min(m)))\n",
        "        \n",
        "        heatmap(m, mask=reference_encoding,\n",
        "                cbar=True,\n",
        "                cmap=\"RdBu_r\",\n",
        "                vmin=-1 * colorbar_bound,\n",
        "                vmax=colorbar_bound,\n",
        "                ax=ax,\n",
        "                linewidth=0.5,\n",
        "                xticklabels=list(range(start, end)))"
      ],
      "execution_count": null,
      "outputs": []
    },
    {
      "cell_type": "code",
      "metadata": {
        "colab": {
          "base_uri": "https://localhost:8080/",
          "height": 301
        },
        "id": "00yvqu73H0ei",
        "outputId": "1879cf7a-49dc-46ee-9ec2-063e514761cb"
      },
      "source": [
        "example_mutation = ISMResult.from_file(\"./mutations_output/example_logits.tsv\")\n",
        "# 绘图展示\n",
        "# Drawing display\n",
        "visualize(example_mutation, \"ZS97_flag_leaf_1\",50,150)"
      ],
      "execution_count": null,
      "outputs": [
        {
          "data": {
            "image/png": "[encoded data removed]",
            "text/plain": [
              "<Figure size 1728x288 with 2 Axes>"
            ]
          },
          "metadata": {},
          "output_type": "display_data"
        }
      ]
    },
    {
      "cell_type": "markdown",
      "metadata": {
        "id": "PGbmZg1Ma_H7"
      },
      "source": [
        " web服务中的bed文件输入及位置输入功能，事实上是序列输入方法的扩展，故此处不作展示。\n",
        " \n",
        " The bed file input and location input functions in the web service are in fact extensions of the sequence input method, so they are not shown here.\n",
        "\n",
        "\n",
        " 本tutorial中涉及的selene函数的具体解释和更多可以使用预训练模型进行的工作，请参见selene文档 https://selene.flatironinstitute.org/master/index.html\n",
        "\n",
        " For a specific explanation of the selene functions covered in this tutorial and more work that can be done with pre-trained models, please see the selene documentation."
      ]
    },
    {
      "cell_type": "code",
      "metadata": {
        "id": "CBaKLY_0H0gl"
      },
      "source": [
        ""
      ],
      "execution_count": null,
      "outputs": []
    },
    {
      "cell_type": "code",
      "metadata": {
        "id": "tnIEUqjwGn0P"
      },
      "source": [
        ""
      ],
      "execution_count": null,
      "outputs": []
    }
  ]
}
